{
 "cells": [
  {
   "cell_type": "markdown",
   "id": "71fed8ce",
   "metadata": {},
   "source": [
    "<font color=gray>Oracle Cloud Infrastructure Data Science Sample Notebook\n",
    "\n",
    "Copyright (c) 2021 Oracle, Inc.  All rights reserved. <br>\n",
    "Licensed under the Universal Permissive License v 1.0 as shown at https://oss.oracle.com/licenses/upl.\n",
    "</font>"
   ]
  },
  {
   "cell_type": "markdown",
   "id": "25c3a422",
   "metadata": {},
   "source": [
    "# Uploading Larger Size Model Artifact Using Oracle ADS Library \n",
    "\n",
    "This notebook demonstrates simple solution for Oracle ADS Library which allows data scientists to upload larger model artifacts and eliminate the timeout error that is experienced by most folks when the artifact is large. It shows end-to-end steps from setting up the configuration till uploading the model artifact."
   ]
  },
  {
   "cell_type": "markdown",
   "id": "92524c9b",
   "metadata": {},
   "source": [
    "## Pre-requisites to Running this Notebook "
   ]
  },
  {
   "cell_type": "markdown",
   "id": "9325ef67",
   "metadata": {},
   "source": [
    "* We recommend that you run this notebook in a notebook session using a conda environment that has ADS version 2.3.1 installed\n",
    "* You need access to the public internet\n",
    "\n",
    "***\n",
    " \n",
    "<font color=gray>Datasets are provided as a convenience. Datasets are considered Third Party Content and are not considered Materials under your agreement with Oracle applicable to the Services.\n",
    " \n",
    "The dataset `oracle_classification_dataset1` is distributed under the [UPL license](oracle_data/UPL.txt). \n",
    "</font>\n",
    "***"
   ]
  },
  {
   "cell_type": "code",
   "execution_count": null,
   "id": "762b5af0",
   "metadata": {},
   "outputs": [],
   "source": [
    "import ads\n",
    "import logging\n",
    "import os\n",
    "import tempfile\n",
    "import warnings\n",
    "\n",
    "from ads.catalog.model import ModelCatalog\n",
    "from ads.common.model import ADSModel\n",
    "from ads.common.model_export_util import prepare_generic_model\n",
    "from ads.common.model_metadata import (MetadataCustomCategory,\n",
    "                                       UseCaseType,\n",
    "                                       Framework)\n",
    "from ads.dataset.factory import DatasetFactory\n",
    "from ads.feature_engineering.schema import Expression, Schema\n",
    "from os import path\n",
    "from sklearn.ensemble import RandomForestClassifier\n",
    "\n",
    "logging.basicConfig(format='%(levelname)s:%(message)s', level=logging.ERROR)\n",
    "warnings.filterwarnings('ignore')\n",
    "ads.set_documentation_mode(False)"
   ]
  },
  {
   "cell_type": "code",
   "execution_count": null,
   "id": "e49fd60d",
   "metadata": {},
   "outputs": [],
   "source": [
    "# Switch to 'api_key' if you prefer user principal (config + key file) as a method of authentication. \n",
    "# In this notebook, we are using resource principal. \n",
    "ads.set_auth(auth='resource_principal')"
   ]
  },
  {
   "cell_type": "code",
   "execution_count": null,
   "id": "3d233e6a",
   "metadata": {},
   "outputs": [],
   "source": [
    "# Load the dataset\n",
    "ds_path = path.join(\"/\", \"opt\", \"notebooks\", \"ads-examples\", \"oracle_data\", \"oracle_classification_dataset1_150K.csv\")\n",
    "\n",
    "ds = DatasetFactory.open(ds_path, target=\"class\")\n",
    "\n",
    "ds\n",
    "# Data preprocessing\n",
    "transformed_ds = ds.auto_transform(fix_imbalance=False)\n",
    "train, test = transformed_ds.train_test_split(test_size=0.15)\n",
    "\n",
    "# Build the model and convert it to an ADSModel object\n",
    "rf_clf = RandomForestClassifier(n_estimators=10).fit(train.X.values, train.y.values)\n",
    "rf_model = ADSModel.from_estimator(rf_clf)"
   ]
  },
  {
   "cell_type": "code",
   "execution_count": null,
   "id": "806be96f",
   "metadata": {},
   "outputs": [],
   "source": [
    "# Prepare the model artifacts\n",
    "path_to_ADS_model_artifact = tempfile.mkdtemp()\n",
    "\n",
    "rf_model_artifact = rf_model.prepare(path_to_ADS_model_artifact, use_case_type=UseCaseType.BINARY_CLASSIFICATION,\n",
    "                                     force_overwrite=True, data_sample=test, data_science_env=True,\n",
    "                                     fn_artifact_files_included=False)"
   ]
  },
  {
   "cell_type": "code",
   "execution_count": null,
   "id": "fb2f9ac7",
   "metadata": {},
   "outputs": [],
   "source": [
    "# Saving the model artifact to the model catalog:\n",
    "mc_model = rf_model_artifact.save(project_id=os.environ['PROJECT_OCID'],\n",
    "                                  compartment_id=os.environ['NB_SESSION_COMPARTMENT_OCID'],\n",
    "                                  training_id=os.environ['NB_SESSION_OCID'],\n",
    "                                  display_name=\"<replace-with-your-display-name>\",\n",
    "                                  description=\"<replace-with-description>\",\n",
    "                                  ignore_pending_changes=True,\n",
    "                                  timeout=1800,\n",
    "                                  ignore_introspection=True,\n",
    "                                 )\n",
    "mc_model"
   ]
  },
  {
   "cell_type": "code",
   "execution_count": null,
   "id": "4cf65362",
   "metadata": {},
   "outputs": [],
   "source": []
  }
 ],
 "metadata": {
  "kernelspec": {
   "display_name": "Python [conda env:dataexpl_p37_cpu_v2]",
   "language": "python",
   "name": "conda-env-dataexpl_p37_cpu_v2-py"
  },
  "language_info": {
   "codemirror_mode": {
    "name": "ipython",
    "version": 3
   },
   "file_extension": ".py",
   "mimetype": "text/x-python",
   "name": "python",
   "nbconvert_exporter": "python",
   "pygments_lexer": "ipython3",
   "version": "3.7.10"
  }
 },
 "nbformat": 4,
 "nbformat_minor": 5
}
